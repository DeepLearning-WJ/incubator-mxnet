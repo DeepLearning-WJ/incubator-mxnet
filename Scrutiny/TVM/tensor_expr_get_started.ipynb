{
 "cells": [
  {
   "cell_type": "code",
   "execution_count": 1,
   "metadata": {},
   "outputs": [],
   "source": [
    "%matplotlib inline"
   ]
  },
  {
   "cell_type": "markdown",
   "metadata": {},
   "source": [
    "\n",
    "\n",
    "Get Started with Tensor Expression\n",
    "==================================\n",
    "**Author**: `Tianqi Chen <https://tqchen.github.io>`_\n",
    "\n",
    "This is an introductory tutorial to the Tensor expression language in TVM.\n",
    "TVM uses a domain specific tensor expression for efficient kernel construction.\n",
    "\n",
    "In this tutorial, we will demonstrate the basic workflow to use\n",
    "the tensor expression language.\n",
    "\n"
   ]
  },
  {
   "cell_type": "code",
   "execution_count": 2,
   "metadata": {},
   "outputs": [],
   "source": [
    "from __future__ import absolute_import, print_function\n",
    "\n",
    "import tvm\n",
    "import tvm.testing\n",
    "from tvm import te\n",
    "import numpy as np\n",
    "\n",
    "# Global declarations of environment.\n",
    "\n",
    "tgt_host = \"llvm\"\n",
    "# Change it to respective GPU if gpu is enabled Ex: cuda, opencl, rocm\n",
    "tgt = \"cuda\""
   ]
  },
  {
   "cell_type": "markdown",
   "metadata": {},
   "source": [
    "Vector Add Example\n",
    "------------------\n",
    "In this tutorial, we will use a vector addition example to demonstrate\n",
    "the workflow.\n",
    "\n",
    "\n"
   ]
  },
  {
   "cell_type": "markdown",
   "metadata": {},
   "source": [
    "Describe the Computation\n",
    "------------------------\n",
    "As a first step, we need to describe our computation.\n",
    "TVM adopts tensor semantics, with each intermediate result\n",
    "represented as a multi-dimensional array. The user needs to describe\n",
    "the computation rule that generates the tensors.\n",
    "\n",
    "We first define a symbolic variable n to represent the shape.\n",
    "We then define two placeholder Tensors, A and B, with given shape (n,)\n",
    "\n",
    "We then describe the result tensor C, with a compute operation.  The\n",
    "compute function takes the shape of the tensor, as well as a lambda\n",
    "function that describes the computation rule for each position of\n",
    "the tensor.\n",
    "\n",
    "No computation happens during this phase, as we are only declaring how\n",
    "the computation should be done.\n",
    "\n",
    "\n"
   ]
  },
  {
   "cell_type": "code",
   "execution_count": 3,
   "metadata": {},
   "outputs": [
    {
     "name": "stdout",
     "output_type": "stream",
     "text": [
      "<class 'tvm.te.tensor.Tensor'>\n"
     ]
    }
   ],
   "source": [
    "n = te.var(\"n\")\n",
    "A = te.placeholder((n,), name=\"A\")\n",
    "B = te.placeholder((n,), name=\"B\")\n",
    "C = te.compute(A.shape, lambda i: A[i] + B[i], name=\"C\")\n",
    "print(type(C))"
   ]
  },
  {
   "cell_type": "markdown",
   "metadata": {},
   "source": [
    "Schedule the Computation\n",
    "------------------------\n",
    "While the above lines describe the computation rule, we can compute\n",
    "C in many ways since the axis of C can be computed in a data\n",
    "parallel manner.  TVM asks the user to provide a description of the\n",
    "computation called a schedule.\n",
    "\n",
    "A schedule is a set of transformation of computation that transforms\n",
    "the loop of computations in the program.\n",
    "\n",
    "After we construct the schedule, by default the schedule computes\n",
    "C in a serial manner in a row-major order.\n",
    "\n",
    ".. code-block:: c\n",
    "\n",
    "  for (int i = 0; i < n; ++i) {\n",
    "    C[i] = A[i] + B[i];\n",
    "  }\n",
    "\n",
    "\n"
   ]
  },
  {
   "cell_type": "code",
   "execution_count": 4,
   "metadata": {},
   "outputs": [],
   "source": [
    "s = te.create_schedule(C.op)"
   ]
  },
  {
   "cell_type": "markdown",
   "metadata": {},
   "source": [
    "We used the split construct to split the first axis of C,\n",
    "this will split the original iteration axis into product of\n",
    "two iterations. This is equivalent to the following code.\n",
    "\n",
    ".. code-block:: c\n",
    "\n",
    "  for (int bx = 0; bx < ceil(n / 64); ++bx) {\n",
    "    for (int tx = 0; tx < 64; ++tx) {\n",
    "      int i = bx * 64 + tx;\n",
    "      if (i < n) {\n",
    "        C[i] = A[i] + B[i];\n",
    "      }\n",
    "    }\n",
    "  }\n",
    "\n",
    "\n"
   ]
  },
  {
   "cell_type": "code",
   "execution_count": 5,
   "metadata": {},
   "outputs": [],
   "source": [
    "bx, tx = s[C].split(C.op.axis[0], factor=64)"
   ]
  },
  {
   "cell_type": "markdown",
   "metadata": {},
   "source": [
    "Finally we bind the iteration axis bx and tx to threads in the GPU\n",
    "compute grid. These are GPU specific constructs that allow us\n",
    "to generate code that runs on GPU.\n",
    "\n",
    "\n"
   ]
  },
  {
   "cell_type": "code",
   "execution_count": 6,
   "metadata": {},
   "outputs": [],
   "source": [
    "if tgt == \"cuda\" or tgt == \"rocm\" or tgt.startswith(\"opencl\"):\n",
    "    s[C].bind(bx, te.thread_axis(\"blockIdx.x\"))\n",
    "    s[C].bind(tx, te.thread_axis(\"threadIdx.x\"))"
   ]
  },
  {
   "cell_type": "markdown",
   "metadata": {},
   "source": [
    "Compilation\n",
    "-----------\n",
    "After we have finished specifying the schedule, we can compile it\n",
    "into a TVM function. By default TVM compiles into a type-erased\n",
    "function that can be directly called from the python side.\n",
    "\n",
    "In the following line, we use tvm.build to create a function.\n",
    "The build function takes the schedule, the desired signature of the\n",
    "function (including the inputs and outputs) as well as target language\n",
    "we want to compile to.\n",
    "\n",
    "The result of compilation fadd is a GPU device function (if GPU is\n",
    "involved) as well as a host wrapper that calls into the GPU\n",
    "function.  fadd is the generated host wrapper function, it contains\n",
    "a reference to the generated device function internally.\n",
    "\n",
    "\n"
   ]
  },
  {
   "cell_type": "code",
   "execution_count": 7,
   "metadata": {},
   "outputs": [],
   "source": [
    "fadd = tvm.build(s, [A, B, C], tgt, target_host=tgt_host, name=\"myadd\")"
   ]
  },
  {
   "cell_type": "markdown",
   "metadata": {},
   "source": [
    "Run the Function\n",
    "----------------\n",
    "The compiled TVM function is exposes a concise C API\n",
    "that can be invoked from any language.\n",
    "\n",
    "We provide a minimal array API in python to aid quick testing and prototyping.\n",
    "The array API is based on the `DLPack <https://github.com/dmlc/dlpack>`_ standard.\n",
    "\n",
    "- We first create a GPU context.\n",
    "- Then tvm.nd.array copies the data to the GPU.\n",
    "- fadd runs the actual computation.\n",
    "- asnumpy() copies the GPU array back to the CPU and we can use this to verify correctness\n",
    "\n",
    "\n"
   ]
  },
  {
   "cell_type": "code",
   "execution_count": 8,
   "metadata": {},
   "outputs": [],
   "source": [
    "ctx = tvm.context(tgt, 0)\n",
    "\n",
    "n = 1024\n",
    "a = tvm.nd.array(np.random.uniform(size=n).astype(A.dtype), ctx)\n",
    "b = tvm.nd.array(np.random.uniform(size=n).astype(B.dtype), ctx)\n",
    "c = tvm.nd.array(np.zeros(n, dtype=C.dtype), ctx)\n",
    "fadd(a, b, c)\n",
    "tvm.testing.assert_allclose(c.asnumpy(), a.asnumpy() + b.asnumpy())"
   ]
  },
  {
   "cell_type": "markdown",
   "metadata": {},
   "source": [
    "Inspect the Generated Code\n",
    "--------------------------\n",
    "You can inspect the generated code in TVM. The result of tvm.build\n",
    "is a TVM Module. fadd is the host module that contains the host wrapper,\n",
    "it also contains a device module for the CUDA (GPU) function.\n",
    "\n",
    "The following code fetches the device module and prints the content code.\n",
    "\n",
    "\n"
   ]
  },
  {
   "cell_type": "code",
   "execution_count": 9,
   "metadata": {},
   "outputs": [
    {
     "name": "stdout",
     "output_type": "stream",
     "text": [
      "-----GPU code-----\n",
      "extern \"C\" __global__ void myadd_kernel0(float* __restrict__ C, float* __restrict__ A, float* __restrict__ B, int n, int stride, int stride1, int stride2) {\n",
      "  if (((int)blockIdx.x) < (n >> 6)) {\n",
      "    C[((((((int)blockIdx.x) * 64) + ((int)threadIdx.x)) * stride2))] = (A[((((((int)blockIdx.x) * 64) + ((int)threadIdx.x)) * stride))] + B[((((((int)blockIdx.x) * 64) + ((int)threadIdx.x)) * stride1))]);\n",
      "  } else {\n",
      "    if (((((int)blockIdx.x) * 64) + ((int)threadIdx.x)) < n) {\n",
      "      C[((((((int)blockIdx.x) * 64) + ((int)threadIdx.x)) * stride2))] = (A[((((((int)blockIdx.x) * 64) + ((int)threadIdx.x)) * stride))] + B[((((((int)blockIdx.x) * 64) + ((int)threadIdx.x)) * stride1))]);\n",
      "    }\n",
      "  }\n",
      "}\n",
      "\n",
      "\n"
     ]
    }
   ],
   "source": [
    "if tgt == \"cuda\" or tgt == \"rocm\" or tgt.startswith(\"opencl\"):\n",
    "    dev_module = fadd.imported_modules[0]\n",
    "    print(\"-----GPU code-----\")\n",
    "    print(dev_module.get_source())\n",
    "else:\n",
    "    print(fadd.get_source())"
   ]
  },
  {
   "cell_type": "markdown",
   "metadata": {},
   "source": [
    "<div class=\"alert alert-info\"><h4>Note</h4><p>Code Specialization\n",
    "\n",
    "  As you may have noticed, the declarations of A, B and C all\n",
    "  take the same shape argument, n. TVM will take advantage of this\n",
    "  to pass only a single shape argument to the kernel, as you will find in\n",
    "  the printed device code. This is one form of specialization.\n",
    "\n",
    "  On the host side, TVM will automatically generate check code\n",
    "  that checks the constraints in the parameters. So if you pass\n",
    "  arrays with different shapes into fadd, an error will be raised.\n",
    "\n",
    "  We can do more specializations. For example, we can write\n",
    "  :code:`n = tvm.runtime.convert(1024)` instead of :code:`n = te.var(\"n\")`,\n",
    "  in the computation declaration. The generated function will\n",
    "  only take vectors with length 1024.</p></div>\n",
    "\n",
    "\n"
   ]
  },
  {
   "cell_type": "markdown",
   "metadata": {},
   "source": [
    "Save Compiled Module\n",
    "--------------------\n",
    "Besides runtime compilation, we can save the compiled modules into\n",
    "a file and load them back later. This is called ahead of time compilation.\n",
    "\n",
    "The following code first performs the following steps:\n",
    "\n",
    "- It saves the compiled host module into an object file.\n",
    "- Then it saves the device module into a ptx file.\n",
    "- cc.create_shared calls a compiler (gcc) to create a shared library\n",
    "\n",
    "\n"
   ]
  },
  {
   "cell_type": "code",
   "execution_count": 10,
   "metadata": {},
   "outputs": [
    {
     "name": "stdout",
     "output_type": "stream",
     "text": [
      "['myadd.ptx', 'myadd.o', 'myadd.so', 'myadd.tvm_meta.json']\n"
     ]
    }
   ],
   "source": [
    "from tvm.contrib import cc\n",
    "from tvm.contrib import utils\n",
    "\n",
    "temp = utils.tempdir()\n",
    "fadd.save(temp.relpath(\"myadd.o\"))\n",
    "if tgt == \"cuda\":\n",
    "    fadd.imported_modules[0].save(temp.relpath(\"myadd.ptx\"))\n",
    "if tgt == \"rocm\":\n",
    "    fadd.imported_modules[0].save(temp.relpath(\"myadd.hsaco\"))\n",
    "if tgt.startswith(\"opencl\"):\n",
    "    fadd.imported_modules[0].save(temp.relpath(\"myadd.cl\"))\n",
    "cc.create_shared(temp.relpath(\"myadd.so\"), [temp.relpath(\"myadd.o\")])\n",
    "print(temp.listdir())"
   ]
  },
  {
   "cell_type": "markdown",
   "metadata": {},
   "source": [
    "<div class=\"alert alert-info\"><h4>Note</h4><p>Module Storage Format\n",
    "\n",
    "  The CPU (host) module is directly saved as a shared library (.so).\n",
    "  There can be multiple customized formats of the device code.\n",
    "  In our example, the device code is stored in ptx, as well as a meta\n",
    "  data json file. They can be loaded and linked separately via import.</p></div>\n",
    "\n",
    "\n"
   ]
  },
  {
   "cell_type": "markdown",
   "metadata": {},
   "source": [
    "Load Compiled Module\n",
    "--------------------\n",
    "We can load the compiled module from the file system and run the code.\n",
    "The following code loads the host and device module separately and\n",
    "re-links them together. We can verify that the newly loaded function works.\n",
    "\n",
    "\n"
   ]
  },
  {
   "cell_type": "code",
   "execution_count": 13,
   "metadata": {},
   "outputs": [],
   "source": [
    "fadd1 = tvm.runtime.load_module(temp.relpath(\"myadd.so\"))\n",
    "if tgt == \"cuda\":\n",
    "    fadd1_dev = tvm.runtime.load_module(temp.relpath(\"myadd.ptx\"))\n",
    "    fadd1.import_module(fadd1_dev)\n",
    "\n",
    "if tgt == \"rocm\":\n",
    "    fadd1_dev = tvm.runtime.load_module(temp.relpath(\"myadd.hsaco\"))\n",
    "    fadd1.import_module(fadd1_dev)\n",
    "\n",
    "if tgt.startswith(\"opencl\"):\n",
    "    fadd1_dev = tvm.runtime.load_module(temp.relpath(\"myadd.cl\"))\n",
    "    fadd1.import_module(fadd1_dev)\n",
    "\n",
    "fadd1(a, b, c)\n",
    "tvm.testing.assert_allclose(c.asnumpy(), a.asnumpy() + b.asnumpy())"
   ]
  },
  {
   "cell_type": "markdown",
   "metadata": {},
   "source": [
    "Pack Everything into One Library\n",
    "--------------------------------\n",
    "In the above example, we store the device and host code separately.\n",
    "TVM also supports export everything as one shared library.\n",
    "Under the hood, we pack the device modules into binary blobs and link\n",
    "them together with the host code.\n",
    "Currently we support packing of Metal, OpenCL and CUDA modules.\n",
    "\n",
    "\n"
   ]
  },
  {
   "cell_type": "code",
   "execution_count": 14,
   "metadata": {},
   "outputs": [],
   "source": [
    "fadd.export_library(temp.relpath(\"myadd_pack.so\"))\n",
    "fadd2 = tvm.runtime.load_module(temp.relpath(\"myadd_pack.so\"))\n",
    "fadd2(a, b, c)\n",
    "tvm.testing.assert_allclose(c.asnumpy(), a.asnumpy() + b.asnumpy())"
   ]
  },
  {
   "cell_type": "markdown",
   "metadata": {},
   "source": [
    "<div class=\"alert alert-info\"><h4>Note</h4><p>Runtime API and Thread-Safety\n",
    "\n",
    "  The compiled modules of TVM do not depend on the TVM compiler.\n",
    "  Instead, they only depend on a minimum runtime library.\n",
    "  The TVM runtime library wraps the device drivers and provides\n",
    "  thread-safe and device agnostic calls into the compiled functions.\n",
    "\n",
    "  This means that you can call the compiled TVM functions from any thread,\n",
    "  on any GPUs.</p></div>\n",
    "\n",
    "\n"
   ]
  },
  {
   "cell_type": "markdown",
   "metadata": {},
   "source": [
    "Generate OpenCL Code\n",
    "--------------------\n",
    "TVM provides code generation features into multiple backends,\n",
    "we can also generate OpenCL code or LLVM code that runs on CPU backends.\n",
    "\n",
    "The following code blocks generate OpenCL code, creates array on an OpenCL\n",
    "device, and verifies the correctness of the code.\n",
    "\n",
    "\n"
   ]
  },
  {
   "cell_type": "code",
   "execution_count": 15,
   "metadata": {},
   "outputs": [],
   "source": [
    "if tgt.startswith(\"opencl\"):\n",
    "    fadd_cl = tvm.build(s, [A, B, C], tgt, name=\"myadd\")\n",
    "    print(\"------opencl code------\")\n",
    "    print(fadd_cl.imported_modules[0].get_source())\n",
    "    ctx = tvm.cl(0)\n",
    "    n = 1024\n",
    "    a = tvm.nd.array(np.random.uniform(size=n).astype(A.dtype), ctx)\n",
    "    b = tvm.nd.array(np.random.uniform(size=n).astype(B.dtype), ctx)\n",
    "    c = tvm.nd.array(np.zeros(n, dtype=C.dtype), ctx)\n",
    "    fadd_cl(a, b, c)\n",
    "    tvm.testing.assert_allclose(c.asnumpy(), a.asnumpy() + b.asnumpy())"
   ]
  },
  {
   "cell_type": "markdown",
   "metadata": {},
   "source": [
    "Summary\n",
    "-------\n",
    "This tutorial provides a walk through of TVM workflow using\n",
    "a vector add example. The general workflow is\n",
    "\n",
    "- Describe your computation via a series of operations.\n",
    "- Describe how we want to compute use schedule primitives.\n",
    "- Compile to the target function we want.\n",
    "- Optionally, save the function to be loaded later.\n",
    "\n",
    "You are more than welcome to checkout other examples and\n",
    "tutorials to learn more about the supported operations, scheduling primitives\n",
    "and other features in TVM.\n",
    "\n",
    "\n"
   ]
  }
 ],
 "metadata": {
  "kernelspec": {
   "display_name": "Python 3",
   "language": "python",
   "name": "python3"
  },
  "language_info": {
   "codemirror_mode": {
    "name": "ipython",
    "version": 3
   },
   "file_extension": ".py",
   "mimetype": "text/x-python",
   "name": "python",
   "nbconvert_exporter": "python",
   "pygments_lexer": "ipython3",
   "version": "3.6.9"
  }
 },
 "nbformat": 4,
 "nbformat_minor": 1
}
